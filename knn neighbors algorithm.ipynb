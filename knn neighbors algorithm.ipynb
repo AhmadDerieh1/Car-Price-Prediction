{
 "cells": [
  {
   "cell_type": "code",
   "execution_count": 76,
   "id": "ea98d890",
   "metadata": {},
   "outputs": [],
   "source": [
    "import numpy as np \n",
    "import pandas as pd\n",
    "import matplotlib.pyplot as plt\n",
    "from sklearn.model_selection import train_test_split\n",
    "from sklearn.metrics import mean_squared_error\n",
    "from sklearn.preprocessing import PolynomialFeatures\n",
    "from sklearn.linear_model import LinearRegression"
   ]
  },
  {
   "cell_type": "code",
   "execution_count": 77,
   "id": "72a810a2",
   "metadata": {},
   "outputs": [
    {
     "data": {
      "text/html": [
       "<div>\n",
       "<style scoped>\n",
       "    .dataframe tbody tr th:only-of-type {\n",
       "        vertical-align: middle;\n",
       "    }\n",
       "\n",
       "    .dataframe tbody tr th {\n",
       "        vertical-align: top;\n",
       "    }\n",
       "\n",
       "    .dataframe thead th {\n",
       "        text-align: right;\n",
       "    }\n",
       "</style>\n",
       "<table border=\"1\" class=\"dataframe\">\n",
       "  <thead>\n",
       "    <tr style=\"text-align: right;\">\n",
       "      <th></th>\n",
       "      <th>نوع الوقود</th>\n",
       "      <th>أصل السيارة</th>\n",
       "      <th>رخصة السيارة</th>\n",
       "      <th>نوع الجير</th>\n",
       "      <th>قوة الماتور</th>\n",
       "      <th>عداد السيارة</th>\n",
       "      <th>عدد الركاب</th>\n",
       "      <th>وسيلة الدفع</th>\n",
       "      <th>أصحاب سابقون</th>\n",
       "      <th>إضافات</th>\n",
       "      <th>النوع</th>\n",
       "      <th>سنة الاصدار</th>\n",
       "      <th>سعر السيارة بالشيكل</th>\n",
       "    </tr>\n",
       "  </thead>\n",
       "  <tbody>\n",
       "    <tr>\n",
       "      <th>0</th>\n",
       "      <td>1</td>\n",
       "      <td>4</td>\n",
       "      <td>0</td>\n",
       "      <td>2</td>\n",
       "      <td>0.269170</td>\n",
       "      <td>130000</td>\n",
       "      <td>1</td>\n",
       "      <td>0</td>\n",
       "      <td>1</td>\n",
       "      <td>1</td>\n",
       "      <td>429</td>\n",
       "      <td>0.727273</td>\n",
       "      <td>0.058955</td>\n",
       "    </tr>\n",
       "    <tr>\n",
       "      <th>1</th>\n",
       "      <td>0</td>\n",
       "      <td>4</td>\n",
       "      <td>0</td>\n",
       "      <td>0</td>\n",
       "      <td>0.167978</td>\n",
       "      <td>99999</td>\n",
       "      <td>0</td>\n",
       "      <td>1</td>\n",
       "      <td>0</td>\n",
       "      <td>0</td>\n",
       "      <td>592</td>\n",
       "      <td>0.709091</td>\n",
       "      <td>0.042436</td>\n",
       "    </tr>\n",
       "    <tr>\n",
       "      <th>2</th>\n",
       "      <td>0</td>\n",
       "      <td>4</td>\n",
       "      <td>0</td>\n",
       "      <td>1</td>\n",
       "      <td>0.089948</td>\n",
       "      <td>99999</td>\n",
       "      <td>0</td>\n",
       "      <td>0</td>\n",
       "      <td>0</td>\n",
       "      <td>0</td>\n",
       "      <td>395</td>\n",
       "      <td>0.272727</td>\n",
       "      <td>0.004394</td>\n",
       "    </tr>\n",
       "    <tr>\n",
       "      <th>3</th>\n",
       "      <td>0</td>\n",
       "      <td>4</td>\n",
       "      <td>0</td>\n",
       "      <td>0</td>\n",
       "      <td>0.123004</td>\n",
       "      <td>38000</td>\n",
       "      <td>0</td>\n",
       "      <td>1</td>\n",
       "      <td>0</td>\n",
       "      <td>0</td>\n",
       "      <td>114</td>\n",
       "      <td>0.854545</td>\n",
       "      <td>0.052948</td>\n",
       "    </tr>\n",
       "    <tr>\n",
       "      <th>4</th>\n",
       "      <td>1</td>\n",
       "      <td>4</td>\n",
       "      <td>0</td>\n",
       "      <td>0</td>\n",
       "      <td>0.212953</td>\n",
       "      <td>99999</td>\n",
       "      <td>1</td>\n",
       "      <td>1</td>\n",
       "      <td>1</td>\n",
       "      <td>1</td>\n",
       "      <td>99</td>\n",
       "      <td>0.872727</td>\n",
       "      <td>0.204116</td>\n",
       "    </tr>\n",
       "  </tbody>\n",
       "</table>\n",
       "</div>"
      ],
      "text/plain": [
       "   نوع الوقود  أصل السيارة  رخصة السيارة  نوع الجير  قوة الماتور عداد السيارة  \\\n",
       "0           1            4             0          2     0.269170       130000   \n",
       "1           0            4             0          0     0.167978        99999   \n",
       "2           0            4             0          1     0.089948        99999   \n",
       "3           0            4             0          0     0.123004        38000   \n",
       "4           1            4             0          0     0.212953        99999   \n",
       "\n",
       "   عدد الركاب  وسيلة الدفع  أصحاب سابقون  إضافات  النوع  سنة الاصدار  \\\n",
       "0           1            0             1       1    429     0.727273   \n",
       "1           0            1             0       0    592     0.709091   \n",
       "2           0            0             0       0    395     0.272727   \n",
       "3           0            1             0       0    114     0.854545   \n",
       "4           1            1             1       1     99     0.872727   \n",
       "\n",
       "   سعر السيارة بالشيكل  \n",
       "0             0.058955  \n",
       "1             0.042436  \n",
       "2             0.004394  \n",
       "3             0.052948  \n",
       "4             0.204116  "
      ]
     },
     "execution_count": 77,
     "metadata": {},
     "output_type": "execute_result"
    }
   ],
   "source": [
    "df = pd.read_csv('./data/final.csv')\n",
    "df.head()"
   ]
  },
  {
   "cell_type": "code",
   "execution_count": 78,
   "id": "2321487a",
   "metadata": {},
   "outputs": [
    {
     "data": {
      "text/plain": [
       "(6862, 13)"
      ]
     },
     "execution_count": 78,
     "metadata": {},
     "output_type": "execute_result"
    }
   ],
   "source": [
    "df.shape"
   ]
  },
  {
   "cell_type": "code",
   "execution_count": 79,
   "id": "39f99171",
   "metadata": {},
   "outputs": [
    {
     "data": {
      "text/html": [
       "<div>\n",
       "<style scoped>\n",
       "    .dataframe tbody tr th:only-of-type {\n",
       "        vertical-align: middle;\n",
       "    }\n",
       "\n",
       "    .dataframe tbody tr th {\n",
       "        vertical-align: top;\n",
       "    }\n",
       "\n",
       "    .dataframe thead th {\n",
       "        text-align: right;\n",
       "    }\n",
       "</style>\n",
       "<table border=\"1\" class=\"dataframe\">\n",
       "  <thead>\n",
       "    <tr style=\"text-align: right;\">\n",
       "      <th></th>\n",
       "      <th>نوع الوقود</th>\n",
       "      <th>أصل السيارة</th>\n",
       "      <th>رخصة السيارة</th>\n",
       "      <th>نوع الجير</th>\n",
       "      <th>قوة الماتور</th>\n",
       "      <th>عدد الركاب</th>\n",
       "      <th>وسيلة الدفع</th>\n",
       "      <th>أصحاب سابقون</th>\n",
       "      <th>إضافات</th>\n",
       "      <th>النوع</th>\n",
       "      <th>سنة الاصدار</th>\n",
       "    </tr>\n",
       "  </thead>\n",
       "  <tbody>\n",
       "    <tr>\n",
       "      <th>0</th>\n",
       "      <td>1</td>\n",
       "      <td>4</td>\n",
       "      <td>0</td>\n",
       "      <td>2</td>\n",
       "      <td>0.269170</td>\n",
       "      <td>1</td>\n",
       "      <td>0</td>\n",
       "      <td>1</td>\n",
       "      <td>1</td>\n",
       "      <td>429</td>\n",
       "      <td>0.727273</td>\n",
       "    </tr>\n",
       "    <tr>\n",
       "      <th>1</th>\n",
       "      <td>0</td>\n",
       "      <td>4</td>\n",
       "      <td>0</td>\n",
       "      <td>0</td>\n",
       "      <td>0.167978</td>\n",
       "      <td>0</td>\n",
       "      <td>1</td>\n",
       "      <td>0</td>\n",
       "      <td>0</td>\n",
       "      <td>592</td>\n",
       "      <td>0.709091</td>\n",
       "    </tr>\n",
       "    <tr>\n",
       "      <th>2</th>\n",
       "      <td>0</td>\n",
       "      <td>4</td>\n",
       "      <td>0</td>\n",
       "      <td>1</td>\n",
       "      <td>0.089948</td>\n",
       "      <td>0</td>\n",
       "      <td>0</td>\n",
       "      <td>0</td>\n",
       "      <td>0</td>\n",
       "      <td>395</td>\n",
       "      <td>0.272727</td>\n",
       "    </tr>\n",
       "    <tr>\n",
       "      <th>3</th>\n",
       "      <td>0</td>\n",
       "      <td>4</td>\n",
       "      <td>0</td>\n",
       "      <td>0</td>\n",
       "      <td>0.123004</td>\n",
       "      <td>0</td>\n",
       "      <td>1</td>\n",
       "      <td>0</td>\n",
       "      <td>0</td>\n",
       "      <td>114</td>\n",
       "      <td>0.854545</td>\n",
       "    </tr>\n",
       "    <tr>\n",
       "      <th>4</th>\n",
       "      <td>1</td>\n",
       "      <td>4</td>\n",
       "      <td>0</td>\n",
       "      <td>0</td>\n",
       "      <td>0.212953</td>\n",
       "      <td>1</td>\n",
       "      <td>1</td>\n",
       "      <td>1</td>\n",
       "      <td>1</td>\n",
       "      <td>99</td>\n",
       "      <td>0.872727</td>\n",
       "    </tr>\n",
       "  </tbody>\n",
       "</table>\n",
       "</div>"
      ],
      "text/plain": [
       "   نوع الوقود  أصل السيارة  رخصة السيارة  نوع الجير  قوة الماتور  عدد الركاب  \\\n",
       "0           1            4             0          2     0.269170           1   \n",
       "1           0            4             0          0     0.167978           0   \n",
       "2           0            4             0          1     0.089948           0   \n",
       "3           0            4             0          0     0.123004           0   \n",
       "4           1            4             0          0     0.212953           1   \n",
       "\n",
       "   وسيلة الدفع  أصحاب سابقون  إضافات  النوع  سنة الاصدار  \n",
       "0            0             1       1    429     0.727273  \n",
       "1            1             0       0    592     0.709091  \n",
       "2            0             0       0    395     0.272727  \n",
       "3            1             0       0    114     0.854545  \n",
       "4            1             1       1     99     0.872727  "
      ]
     },
     "execution_count": 79,
     "metadata": {},
     "output_type": "execute_result"
    }
   ],
   "source": [
    "X = data.drop([\"سعر السيارة بالشيكل\",\"عداد السيارة\"] , axis = 1) \n",
    "#check that the target variable has been removed\n",
    "X.head()"
   ]
  },
  {
   "cell_type": "code",
   "execution_count": 80,
   "id": "e578c5c2",
   "metadata": {},
   "outputs": [
    {
     "data": {
      "text/plain": [
       "array([0.05895456, 0.04243619, 0.00439389, 0.05294788, 0.20411598])"
      ]
     },
     "execution_count": 80,
     "metadata": {},
     "output_type": "execute_result"
    }
   ],
   "source": [
    "#separate target values\n",
    "y = df[\"سعر السيارة بالشيكل\"].values\n",
    "#view target values\n",
    "y[0:5]"
   ]
  },
  {
   "cell_type": "code",
   "execution_count": 91,
   "id": "3d420835",
   "metadata": {},
   "outputs": [],
   "source": [
    "from sklearn.model_selection import train_test_split\n",
    "#split dataset into train and test data\n",
    "X_train, X_test, y_train, y_test = train_test_split(X, y, test_size = 0.3, random_state = 101)"
   ]
  },
  {
   "cell_type": "code",
   "execution_count": 109,
   "id": "46afdc01",
   "metadata": {},
   "outputs": [
    {
     "name": "stdout",
     "output_type": "stream",
     "text": [
      "[311 301 100 ...  74 194 352]\n"
     ]
    }
   ],
   "source": [
    "import numpy as np\n",
    "from sklearn.neighbors import KNeighborsClassifier\n",
    "from sklearn import preprocessing\n",
    "from sklearn import utils\n",
    "encoded = preprocessing.LabelEncoder()\n",
    "encoded_target= encoded.fit_transform(y_train)\n",
    "knn_model=KNeighborsClassifier(n_neighbors = 3)\n",
    "knn_model.fit(X_train,encoded_target)\n",
    "predict=knn_model.predict(X_test)\n",
    "print(predict)"
   ]
  },
  {
   "cell_type": "code",
   "execution_count": 113,
   "id": "acbba56a",
   "metadata": {},
   "outputs": [],
   "source": [
    "def accuracy(pred , y_test):\n",
    "    count = 0\n",
    "    for i in range(len(pred)):\n",
    "        if pred[i] == y_test[i]:\n",
    "            count +=1\n",
    "            \n",
    "    return print(\"Accuracy =\", (count/len(pred))*100, \"%\")"
   ]
  },
  {
   "cell_type": "code",
   "execution_count": 114,
   "id": "d7f66848",
   "metadata": {},
   "outputs": [
    {
     "name": "stdout",
     "output_type": "stream",
     "text": [
      "Accuracy = 0.0 %\n"
     ]
    }
   ],
   "source": [
    "accuracy(predict,y_test)"
   ]
  }
 ],
 "metadata": {
  "kernelspec": {
   "display_name": "Python 3 (ipykernel)",
   "language": "python",
   "name": "python3"
  },
  "language_info": {
   "codemirror_mode": {
    "name": "ipython",
    "version": 3
   },
   "file_extension": ".py",
   "mimetype": "text/x-python",
   "name": "python",
   "nbconvert_exporter": "python",
   "pygments_lexer": "ipython3",
   "version": "3.10.9"
  }
 },
 "nbformat": 4,
 "nbformat_minor": 5
}
