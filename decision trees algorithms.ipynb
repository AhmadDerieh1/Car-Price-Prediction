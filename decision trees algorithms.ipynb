{
 "cells": [
  {
   "cell_type": "code",
   "execution_count": 14,
   "id": "7fd8398b",
   "metadata": {},
   "outputs": [],
   "source": [
    "import pandas as pd\n",
    "import numpy as np\n",
    "import matplotlib.pyplot as plt\n",
    "from sklearn import preprocessing\n",
    "from sklearn import utils\n",
    "%matplotlib inline"
   ]
  },
  {
   "cell_type": "code",
   "execution_count": 8,
   "id": "91f86f0b",
   "metadata": {},
   "outputs": [
    {
     "data": {
      "text/html": [
       "<div>\n",
       "<style scoped>\n",
       "    .dataframe tbody tr th:only-of-type {\n",
       "        vertical-align: middle;\n",
       "    }\n",
       "\n",
       "    .dataframe tbody tr th {\n",
       "        vertical-align: top;\n",
       "    }\n",
       "\n",
       "    .dataframe thead th {\n",
       "        text-align: right;\n",
       "    }\n",
       "</style>\n",
       "<table border=\"1\" class=\"dataframe\">\n",
       "  <thead>\n",
       "    <tr style=\"text-align: right;\">\n",
       "      <th></th>\n",
       "      <th>نوع الوقود</th>\n",
       "      <th>أصل السيارة</th>\n",
       "      <th>رخصة السيارة</th>\n",
       "      <th>نوع الجير</th>\n",
       "      <th>قوة الماتور</th>\n",
       "      <th>عداد السيارة</th>\n",
       "      <th>عدد الركاب</th>\n",
       "      <th>وسيلة الدفع</th>\n",
       "      <th>أصحاب سابقون</th>\n",
       "      <th>إضافات</th>\n",
       "      <th>النوع</th>\n",
       "      <th>سنة الاصدار</th>\n",
       "      <th>سعر السيارة بالشيكل</th>\n",
       "    </tr>\n",
       "  </thead>\n",
       "  <tbody>\n",
       "    <tr>\n",
       "      <th>0</th>\n",
       "      <td>1</td>\n",
       "      <td>4</td>\n",
       "      <td>0</td>\n",
       "      <td>2</td>\n",
       "      <td>0.269170</td>\n",
       "      <td>130000</td>\n",
       "      <td>1</td>\n",
       "      <td>0</td>\n",
       "      <td>1</td>\n",
       "      <td>1</td>\n",
       "      <td>429</td>\n",
       "      <td>0.727273</td>\n",
       "      <td>0.058955</td>\n",
       "    </tr>\n",
       "    <tr>\n",
       "      <th>1</th>\n",
       "      <td>0</td>\n",
       "      <td>4</td>\n",
       "      <td>0</td>\n",
       "      <td>0</td>\n",
       "      <td>0.167978</td>\n",
       "      <td>99999</td>\n",
       "      <td>0</td>\n",
       "      <td>1</td>\n",
       "      <td>0</td>\n",
       "      <td>0</td>\n",
       "      <td>592</td>\n",
       "      <td>0.709091</td>\n",
       "      <td>0.042436</td>\n",
       "    </tr>\n",
       "    <tr>\n",
       "      <th>2</th>\n",
       "      <td>0</td>\n",
       "      <td>4</td>\n",
       "      <td>0</td>\n",
       "      <td>1</td>\n",
       "      <td>0.089948</td>\n",
       "      <td>99999</td>\n",
       "      <td>0</td>\n",
       "      <td>0</td>\n",
       "      <td>0</td>\n",
       "      <td>0</td>\n",
       "      <td>395</td>\n",
       "      <td>0.272727</td>\n",
       "      <td>0.004394</td>\n",
       "    </tr>\n",
       "    <tr>\n",
       "      <th>3</th>\n",
       "      <td>0</td>\n",
       "      <td>4</td>\n",
       "      <td>0</td>\n",
       "      <td>0</td>\n",
       "      <td>0.123004</td>\n",
       "      <td>38000</td>\n",
       "      <td>0</td>\n",
       "      <td>1</td>\n",
       "      <td>0</td>\n",
       "      <td>0</td>\n",
       "      <td>114</td>\n",
       "      <td>0.854545</td>\n",
       "      <td>0.052948</td>\n",
       "    </tr>\n",
       "    <tr>\n",
       "      <th>4</th>\n",
       "      <td>1</td>\n",
       "      <td>4</td>\n",
       "      <td>0</td>\n",
       "      <td>0</td>\n",
       "      <td>0.212953</td>\n",
       "      <td>99999</td>\n",
       "      <td>1</td>\n",
       "      <td>1</td>\n",
       "      <td>1</td>\n",
       "      <td>1</td>\n",
       "      <td>99</td>\n",
       "      <td>0.872727</td>\n",
       "      <td>0.204116</td>\n",
       "    </tr>\n",
       "  </tbody>\n",
       "</table>\n",
       "</div>"
      ],
      "text/plain": [
       "   نوع الوقود  أصل السيارة  رخصة السيارة  نوع الجير  قوة الماتور عداد السيارة  \\\n",
       "0           1            4             0          2     0.269170       130000   \n",
       "1           0            4             0          0     0.167978        99999   \n",
       "2           0            4             0          1     0.089948        99999   \n",
       "3           0            4             0          0     0.123004        38000   \n",
       "4           1            4             0          0     0.212953        99999   \n",
       "\n",
       "   عدد الركاب  وسيلة الدفع  أصحاب سابقون  إضافات  النوع  سنة الاصدار  \\\n",
       "0           1            0             1       1    429     0.727273   \n",
       "1           0            1             0       0    592     0.709091   \n",
       "2           0            0             0       0    395     0.272727   \n",
       "3           0            1             0       0    114     0.854545   \n",
       "4           1            1             1       1     99     0.872727   \n",
       "\n",
       "   سعر السيارة بالشيكل  \n",
       "0             0.058955  \n",
       "1             0.042436  \n",
       "2             0.004394  \n",
       "3             0.052948  \n",
       "4             0.204116  "
      ]
     },
     "execution_count": 8,
     "metadata": {},
     "output_type": "execute_result"
    }
   ],
   "source": [
    "data = pd.read_csv('./data/final.csv')\n",
    "data.head(5)"
   ]
  },
  {
   "cell_type": "code",
   "execution_count": 9,
   "id": "482fd7f5",
   "metadata": {},
   "outputs": [
    {
     "data": {
      "text/plain": [
       "(6862, 13)"
      ]
     },
     "execution_count": 9,
     "metadata": {},
     "output_type": "execute_result"
    }
   ],
   "source": [
    "data.shape"
   ]
  },
  {
   "cell_type": "code",
   "execution_count": 10,
   "id": "08f82233",
   "metadata": {},
   "outputs": [],
   "source": [
    "X = data.drop([\"سعر السيارة بالشيكل\",\"عداد السيارة\"] , axis = 1) \n",
    "y = data['سعر السيارة بالشيكل']"
   ]
  },
  {
   "cell_type": "code",
   "execution_count": 11,
   "id": "73c731be",
   "metadata": {},
   "outputs": [],
   "source": [
    "from sklearn.model_selection import train_test_split\n",
    "X_train, X_test, y_train, y_test = train_test_split(X, y, test_size=0.20)"
   ]
  },
  {
   "cell_type": "code",
   "execution_count": 19,
   "id": "f2ccc035",
   "metadata": {},
   "outputs": [
    {
     "name": "stdout",
     "output_type": "stream",
     "text": [
      "[233 242 148 ...  85 182 108]\n"
     ]
    }
   ],
   "source": [
    "from sklearn.tree import DecisionTreeClassifier\n",
    "from sklearn import preprocessing\n",
    "from sklearn import utils\n",
    "encoded = preprocessing.LabelEncoder()\n",
    "encoded_target= encoded.fit_transform(y_train)\n",
    "Decision_Tree_model=DecisionTreeClassifier()\n",
    "Decision_Tree_model.fit(X_train,encoded_target)\n",
    "predict=Decision_Tree_model.predict(X_test)"
   ]
  },
  {
   "cell_type": "code",
   "execution_count": 21,
   "id": "4d2d6249",
   "metadata": {},
   "outputs": [],
   "source": [
    "y_pred = Decision_Tree_model.predict(X_test)"
   ]
  },
  {
   "cell_type": "code",
   "execution_count": 22,
   "id": "17e5742f",
   "metadata": {},
   "outputs": [
    {
     "name": "stdout",
     "output_type": "stream",
     "text": [
      "Mean Absolute Error: 167.85280111527717\n",
      "Mean Squared Error: 35978.535153556084\n",
      "Root Mean Squared Error: 189.680086338962\n"
     ]
    }
   ],
   "source": [
    "from sklearn import metrics\n",
    "print('Mean Absolute Error:', metrics.mean_absolute_error(y_test, y_pred))\n",
    "print('Mean Squared Error:', metrics.mean_squared_error(y_test, y_pred))\n",
    "print('Root Mean Squared Error:', np.sqrt(metrics.mean_squared_error(y_test, y_pred)))"
   ]
  }
 ],
 "metadata": {
  "kernelspec": {
   "display_name": "Python 3 (ipykernel)",
   "language": "python",
   "name": "python3"
  },
  "language_info": {
   "codemirror_mode": {
    "name": "ipython",
    "version": 3
   },
   "file_extension": ".py",
   "mimetype": "text/x-python",
   "name": "python",
   "nbconvert_exporter": "python",
   "pygments_lexer": "ipython3",
   "version": "3.10.9"
  }
 },
 "nbformat": 4,
 "nbformat_minor": 5
}
