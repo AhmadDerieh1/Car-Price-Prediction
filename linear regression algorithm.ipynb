{
 "cells": [
  {
   "cell_type": "code",
   "execution_count": 66,
   "id": "a041d367",
   "metadata": {},
   "outputs": [],
   "source": [
    "import numpy as np \n",
    "import pandas as pd\n",
    "import matplotlib.pyplot as plt\n",
    "from sklearn.model_selection import train_test_split\n",
    "from sklearn.metrics import mean_squared_error\n",
    "from sklearn.preprocessing import PolynomialFeatures\n",
    "from sklearn.linear_model import LinearRegression"
   ]
  },
  {
   "cell_type": "code",
   "execution_count": 67,
   "id": "8cfec32e",
   "metadata": {},
   "outputs": [],
   "source": [
    "df = pd.read_csv('./data/final.csv')"
   ]
  },
  {
   "cell_type": "code",
   "execution_count": 27,
   "id": "40ba6a7e",
   "metadata": {},
   "outputs": [
    {
     "data": {
      "text/plain": [
       "array([0.05895456, 0.04243619, 0.00439389, 0.05294788, 0.20411598])"
      ]
     },
     "execution_count": 27,
     "metadata": {},
     "output_type": "execute_result"
    }
   ],
   "source": [
    "#separate target values\n",
    "y = df['سعر السيارة بالشيكل'].values"
   ]
  },
  {
   "cell_type": "code",
   "execution_count": 46,
   "id": "51f82133",
   "metadata": {},
   "outputs": [],
   "source": [
    "from sklearn.model_selection import train_test_split\n",
    "#split dataset into train and test data\n",
    "X_train, X_test, y_train, y_test = train_test_split(X, y, test_size=0.2, random_state=1)"
   ]
  },
  {
   "cell_type": "code",
   "execution_count": 60,
   "id": "93af49dd",
   "metadata": {},
   "outputs": [],
   "source": [
    "X = data.drop([\"سعر السيارة بالشيكل\",\"عداد السيارة\"] , axis = 1) \n",
    "y = data[\"سعر السيارة بالشيكل\"]"
   ]
  },
  {
   "cell_type": "code",
   "execution_count": 61,
   "id": "707e3c99",
   "metadata": {},
   "outputs": [],
   "source": [
    "poly = PolynomialFeatures(degree = 3)\n",
    "X_poly = poly.fit_transform(X)"
   ]
  },
  {
   "cell_type": "code",
   "execution_count": 62,
   "id": "672135e3",
   "metadata": {},
   "outputs": [],
   "source": [
    "X_train , X_test , y_train , y_test = train_test_split(X_poly , y, test_size = 0.10 , random_state = 42)"
   ]
  },
  {
   "cell_type": "code",
   "execution_count": 63,
   "id": "fcff40d4",
   "metadata": {},
   "outputs": [],
   "source": [
    "model = LinearRegression()\n",
    "model = model.fit(X_train , y_train)"
   ]
  },
  {
   "cell_type": "code",
   "execution_count": 64,
   "id": "2d4c7a20",
   "metadata": {},
   "outputs": [],
   "source": [
    "y_pred = model.predict(X_test)"
   ]
  },
  {
   "cell_type": "code",
   "execution_count": 65,
   "id": "c0a9b0c7",
   "metadata": {},
   "outputs": [
    {
     "name": "stdout",
     "output_type": "stream",
     "text": [
      "MSE = 0.0012132454658904126\n"
     ]
    }
   ],
   "source": [
    "MSE = mean_squared_error(y_test , y_pred)\n",
    "print(\"MSE = {}\".format(MSE))"
   ]
  }
 ],
 "metadata": {
  "kernelspec": {
   "display_name": "Python 3 (ipykernel)",
   "language": "python",
   "name": "python3"
  },
  "language_info": {
   "codemirror_mode": {
    "name": "ipython",
    "version": 3
   },
   "file_extension": ".py",
   "mimetype": "text/x-python",
   "name": "python",
   "nbconvert_exporter": "python",
   "pygments_lexer": "ipython3",
   "version": "3.10.9"
  }
 },
 "nbformat": 4,
 "nbformat_minor": 5
}
